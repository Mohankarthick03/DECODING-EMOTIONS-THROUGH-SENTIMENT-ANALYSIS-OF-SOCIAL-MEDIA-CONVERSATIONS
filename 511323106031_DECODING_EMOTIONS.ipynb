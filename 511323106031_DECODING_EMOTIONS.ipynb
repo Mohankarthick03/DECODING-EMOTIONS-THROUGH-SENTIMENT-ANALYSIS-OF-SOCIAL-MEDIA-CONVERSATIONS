{
  "nbformat": 4,
  "nbformat_minor": 0,
  "metadata": {
    "colab": {
      "provenance": [],
      "authorship_tag": "ABX9TyOPLyZuW6zBJnKSYGFaFAMI",
      "include_colab_link": true
    },
    "kernelspec": {
      "name": "python3",
      "display_name": "Python 3"
    },
    "language_info": {
      "name": "python"
    }
  },
  "cells": [
    {
      "cell_type": "markdown",
      "metadata": {
        "id": "view-in-github",
        "colab_type": "text"
      },
      "source": [
        "<a href=\"https://colab.research.google.com/github/Mohankarthick03/DECODING-EMOTIONS-THROUGH-SENTIMENT-ANALYSIS-OF-SOCIAL-MEDIA-CONVERSATIONS/blob/main/511323106031_DECODING_EMOTIONS.ipynb\" target=\"_parent\"><img src=\"https://colab.research.google.com/assets/colab-badge.svg\" alt=\"Open In Colab\"/></a>"
      ]
    },
    {
      "cell_type": "code",
      "execution_count": null,
      "metadata": {
        "id": "5tTsyBnVfliF"
      },
      "outputs": [],
      "source": [
        "import tweepy\n",
        "import nltk\n",
        "from nltk.sentiment.vader import SentimentIntensityAnalyzer\n",
        "import pandas as pd\n",
        "\n",
        "# Download the necessary NLTK data files (only needs to be done once)\n",
        "nltk.download('vader_lexicon')\n",
        "\n",
        "# Twitter API credentials (replace with your own keys)\n",
        "consumer_key = 'your_consumer_key'\n",
        "consumer_secret = 'your_consumer_secret'\n",
        "access_token = 'your_access_token'\n",
        "access_token_secret = 'your_access_token_secret'\n",
        "\n",
        "# Authenticate with the Twitter API\n",
        "auth = tweepy.OAuth1UserHandler(consumer_key, consumer_secret, access_token, access_token_secret)\n",
        "api = tweepy.API(auth)\n",
        "\n",
        "# Initialize the SentimentIntensityAnalyzer\n",
        "sia = SentimentIntensityAnalyzer()\n",
        "\n",
        "# Function to fetch tweets\n",
        "def fetch_tweets(query, count=100):\n",
        "    tweets = tweepy.Cursor(api.search_tweets, q=query, lang=\"en\", tweet_mode='extended').items(count)\n",
        "    tweet_data = []\n",
        "    for tweet in tweets:\n",
        "        tweet_data.append(tweet.full_text)\n",
        "    return tweet_data\n",
        "\n",
        "# Function to analyze the sentiment of a text\n",
        "def analyze_sentiment(text):\n",
        "    sentiment_score = sia.polarity_scores(text)\n",
        "    # Determine the sentiment based on the score\n",
        "    if sentiment_score['compound'] >= 0.05:\n",
        "        sentiment = 'Positive'\n",
        "    elif sentiment_score['compound'] <= -0.05:\n",
        "        sentiment = 'Negative'\n",
        "    else:\n",
        "        sentiment = 'Neutral'\n",
        "    return sentiment, sentiment_score['compound']\n",
        "\n",
        "# Function to process tweets and analyze sentiments\n",
        "def process_tweets(query, count=100):\n",
        "    tweets = fetch_tweets(query, count)\n",
        "    sentiment_results = []\n",
        "\n",
        "    for tweet in tweets:\n",
        "        sentiment, score = analyze_sentiment(tweet)\n",
        "        sentiment_results.append({\n",
        "            'Tweet': tweet,\n",
        "            'Sentiment': sentiment,\n",
        "            'Score': score\n",
        "        })\n",
        "\n",
        "    # Return results as a pandas DataFrame\n",
        "    return pd.DataFrame(sentiment_results)\n",
        "\n",
        "# Example: Analyze tweets related to \"AI\"\n",
        "query = \"AI\"\n",
        "tweet_analysis = process_tweets(query)\n",
        "\n",
        "# Display the analysis\n",
        "print(tweet_analysis)\n",
        "\n",
        "# Optional: Save the results to a CSV file\n",
        "tweet_analysis.to_csv('tweet_sentiment_analysis.csv', index=False)\n"
      ]
    }
  ]
}